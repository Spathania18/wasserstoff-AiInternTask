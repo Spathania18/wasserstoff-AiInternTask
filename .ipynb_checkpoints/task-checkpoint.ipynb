{
 "cells": [
  {
   "cell_type": "code",
   "execution_count": 1,
   "id": "65656157-ab6b-4757-a719-350c82e9eb0e",
   "metadata": {},
   "outputs": [],
   "source": [
    "# Import necessary libraries\n",
    "import requests\n",
    "import pdfplumber\n",
    "import json\n",
    "import os\n",
    "from pymongo import MongoClient\n",
    "from concurrent.futures import ThreadPoolExecutor\n"
   ]
  },
  {
   "cell_type": "code",
   "execution_count": 2,
   "id": "57d1c89d-f21f-4172-9137-c58719a832e5",
   "metadata": {},
   "outputs": [],
   "source": [
    "# Load JSON file with PDF links\n",
    "with open('Dataset.json', 'r') as file:\n",
    "    data = json.load(file)\n",
    "\n",
    "# Extract the PDF URLs from the JSON\n",
    "pdf_links = list(data.values())  # Extract all the links"
   ]
  },
  {
   "cell_type": "code",
   "execution_count": 3,
   "id": "daf9120b-fc06-4332-a38b-60020a4d8d78",
   "metadata": {},
   "outputs": [
    {
     "name": "stdout",
     "output_type": "stream",
     "text": [
      "['https://digiscr.sci.gov.in/pdf_viewer?dir=YWRtaW4vanVkZ2VtZW50X2ZpbGUvanVkZ2VtZW50X3BkZi8xOTUwL3ZvbHVtZSAxL1BhcnQgSS9Db21taXNzaW9uZXIgb2YgSW5jb21lIFRheCwgV2VzdCBCZW5nYWxfQ2FsY3V0dGEgQWdlbmN5IEx0ZC5fMTY5NzYwNjMxMC5wZGY=', 'https://digiscr.sci.gov.in/pdf_viewer?dir=YWRtaW4vanVkZ2VtZW50X2ZpbGUvanVkZ2VtZW50X3BkZi8xOTUyL3ZvbHVtZSAxL1BhcnQgSS90aGUgc3RhdGUgb2YgYmloYXJfbWFoYXJhamFkaGlyYWphIHNpciBrYW1lc2h3YXIgc2luZ2ggb2YgZGFyYmhhbmdhIGFuZCBvdGhlcnNfMTY5ODMxODQ0OC5wZGY=', 'https://cdnbbsr.s3waas.gov.in/s380537a945c7aaa788ccfcdf1b99b5d8f/uploads/2024/07/20240716890312078.pdf', 'https://www.mha.gov.in/sites/default/files/250883_english_01042024.pdf', 'https://rbidocs.rbi.org.in/rdocs/PressRelease/PDFs/PR60974A2ED1DFDB84EC0B3AABFB8419E1431.PDF', 'https://digiscr.sci.gov.in/pdf_viewer?dir=YWRtaW4vanVkZ2VtZW50X2ZpbGUvanVkZ2VtZW50X3BkZi8xOTYwL3ZvbHVtZSAxL1BhcnQgSS90aGUgdGF0YSBvaWwgbWlsbHMgY28uIGx0ZC5faXRzIHdvcmttZW4gYW5kIG90aGVyc18xNjk5MzMzODYyLnBkZg==', 'https://digiscr.sci.gov.in/pdf_viewer?dir=YWRtaW4vanVkZ2VtZW50X2ZpbGUvanVkZ2VtZW50X3BkZi8xOTYwL3ZvbHVtZSAxL1BhcnQgSS9ncmVhdCBpbmRpYW4gbW90b3Igd29ya3MgbHRkLiwgYW5kIGFub3RoZXJfdGhlaXIgZW1wbG95ZWVzIGFuZCBvdGhlcnNfMTY5OTMzNjM1NS5wZGY=', 'https://digiscr.sci.gov.in/pdf_viewer?dir=YWRtaW4vanVkZ2VtZW50X2ZpbGUvanVkZ2VtZW50X3BkZi8xOTYwL3ZvbHVtZSAxL1BhcnQgSS9tZXNzcnMuIGlzcGFoYW5pIGx0ZC4gY2FsY3V0dGFfaXNwYWhhbmkgZW1wbG95ZWVzICB1bmlvbl8xNjk5MzM4NTQ5LnBkZg==', 'https://digiscr.sci.gov.in/pdf_viewer?dir=YWRtaW4vanVkZ2VtZW50X2ZpbGUvanVkZ2VtZW50X3BkZi8xOTYwL3ZvbHVtZSAxL1BhcnQgSS9waHVsYmFyaSB0ZWEgZXN0YXRlX2l0cyB3b3JrbWVuXzE2OTkzMzkyMjYucGRm', 'https://digiscr.sci.gov.in/pdf_viewer?dir=YWRtaW4vanVkZ2VtZW50X2ZpbGUvanVkZ2VtZW50X3BkZi8xOTYwL3ZvbHVtZSAxL1BhcnQgSS90aGUgbG9yZCBrcmlzaG5hIHN1Z2FyIG1pbGxzIGx0ZC4sIGFuZCBhbm90aGVyX3RoZSB1bmlvbiBvZiBpbmRpYSBhbmQgYW5vdGhlcl8xNjk5MzQxMDE0LnBkZg==', 'https://digiscr.sci.gov.in/pdf_viewer?dir=YWRtaW4vanVkZ2VtZW50X2ZpbGUvanVkZ2VtZW50X3BkZi8xOTYwL3ZvbHVtZSAxL1BhcnQgSS8xNjk5NTIxMzUwLnBkZg==', 'https://digiscr.sci.gov.in/pdf_viewer?dir=YWRtaW4vanVkZ2VtZW50X2ZpbGUvanVkZ2VtZW50X3BkZi8xOTYwL3ZvbHVtZSAxL1BhcnQgSS90aGUgZ3JhaGFtIHRyYWRpbmcgY28uIChpbmRpYSkgbHRkLl9pdHMgd29ya21lbl8xNjk5NTIzNTc3LnBkZg==', 'https://digiscr.sci.gov.in/pdf_viewer?dir=YWRtaW4vanVkZ2VtZW50X2ZpbGUvanVkZ2VtZW50X3BkZi8xOTYwL3ZvbHVtZSAxL1BhcnQgSS90aGUgY29tbWlzc2lvbmVyIG9mIGluY29tZS10YXgsIGJvbWJheV9yYW5jaGhvZGRhcyBrYXJzb25kYXMsIGJvbWJheV8xNjk5NTI2MjI3LnBkZg==', 'https://digiscr.sci.gov.in/pdf_viewer?dir=YWRtaW4vanVkZ2VtZW50X2ZpbGUvanVkZ2VtZW50X3BkZi8xOTYwL3ZvbHVtZSAxL1BhcnQgSS8xNjk5NTI2ODA0LnBkZg==', 'https://digiscr.sci.gov.in/pdf_viewer?dir=YWRtaW4vanVkZ2VtZW50X2ZpbGUvanVkZ2VtZW50X3BkZi8xOTYwL3ZvbHVtZSAxL1BhcnQgSS9zaHJpIGIuIHAuIGhpcmEsIHdvcmtzIG1hbmFnZXIsIGNlbnRyYWwgcmFpbHdheSwgcGFyZWwsIGJvbWJheSBldGMuX3NocmkgYy4gbS4gcHJhZGhhbiBldGMuXzE2OTk1MjcyMTcucGRm', 'https://www.sebi.gov.in/sebi_data/attachdocs/1292585113260.pdf', 'https://ijtr.nic.in/Circular%20Orders%20(Supplement).pdf', 'https://enforcementdirectorate.gov.in/sites/default/files/Act%26rules/The%20Prevention%20of%20Money-laundering%20%28Maintenance%20of%20Records%29%20Rules%2C%202005.pdf']\n"
     ]
    }
   ],
   "source": [
    "print(pdf_links)  # This will print the list of URLs"
   ]
  },
  {
   "cell_type": "code",
   "execution_count": 8,
   "id": "eed073fe-358d-400e-a5f5-282246977683",
   "metadata": {},
   "outputs": [
    {
     "name": "stderr",
     "output_type": "stream",
     "text": [
      "C:\\Users\\spath\\OneDrive\\Desktop\\task\\venv\\Lib\\site-packages\\urllib3\\connectionpool.py:1099: InsecureRequestWarning: Unverified HTTPS request is being made to host 'digiscr.sci.gov.in'. Adding certificate verification is strongly advised. See: https://urllib3.readthedocs.io/en/latest/advanced-usage.html#tls-warnings\n",
      "  warnings.warn(\n"
     ]
    },
    {
     "name": "stdout",
     "output_type": "stream",
     "text": [
      "Downloaded: pdf_documents/pdf_viewer.pdf\n"
     ]
    },
    {
     "name": "stderr",
     "output_type": "stream",
     "text": [
      "C:\\Users\\spath\\OneDrive\\Desktop\\task\\venv\\Lib\\site-packages\\urllib3\\connectionpool.py:1099: InsecureRequestWarning: Unverified HTTPS request is being made to host 'digiscr.sci.gov.in'. Adding certificate verification is strongly advised. See: https://urllib3.readthedocs.io/en/latest/advanced-usage.html#tls-warnings\n",
      "  warnings.warn(\n"
     ]
    },
    {
     "name": "stdout",
     "output_type": "stream",
     "text": [
      "Downloaded: pdf_documents/pdf_viewer.pdf\n"
     ]
    },
    {
     "name": "stderr",
     "output_type": "stream",
     "text": [
      "C:\\Users\\spath\\OneDrive\\Desktop\\task\\venv\\Lib\\site-packages\\urllib3\\connectionpool.py:1099: InsecureRequestWarning: Unverified HTTPS request is being made to host 'cdnbbsr.s3waas.gov.in'. Adding certificate verification is strongly advised. See: https://urllib3.readthedocs.io/en/latest/advanced-usage.html#tls-warnings\n",
      "  warnings.warn(\n"
     ]
    },
    {
     "name": "stdout",
     "output_type": "stream",
     "text": [
      "Downloaded: pdf_documents/20240716890312078.pdf.pdf\n"
     ]
    },
    {
     "name": "stderr",
     "output_type": "stream",
     "text": [
      "C:\\Users\\spath\\OneDrive\\Desktop\\task\\venv\\Lib\\site-packages\\urllib3\\connectionpool.py:1099: InsecureRequestWarning: Unverified HTTPS request is being made to host 'www.mha.gov.in'. Adding certificate verification is strongly advised. See: https://urllib3.readthedocs.io/en/latest/advanced-usage.html#tls-warnings\n",
      "  warnings.warn(\n"
     ]
    },
    {
     "name": "stdout",
     "output_type": "stream",
     "text": [
      "Downloaded: pdf_documents/250883_english_01042024.pdf.pdf\n"
     ]
    },
    {
     "name": "stderr",
     "output_type": "stream",
     "text": [
      "C:\\Users\\spath\\OneDrive\\Desktop\\task\\venv\\Lib\\site-packages\\urllib3\\connectionpool.py:1099: InsecureRequestWarning: Unverified HTTPS request is being made to host 'rbidocs.rbi.org.in'. Adding certificate verification is strongly advised. See: https://urllib3.readthedocs.io/en/latest/advanced-usage.html#tls-warnings\n",
      "  warnings.warn(\n"
     ]
    },
    {
     "name": "stdout",
     "output_type": "stream",
     "text": [
      "Downloaded: pdf_documents/PR60974A2ED1DFDB84EC0B3AABFB8419E1431.PDF.pdf\n",
      "Downloaded: pdf_documents/pdf_viewer.pdf\n"
     ]
    },
    {
     "name": "stderr",
     "output_type": "stream",
     "text": [
      "C:\\Users\\spath\\OneDrive\\Desktop\\task\\venv\\Lib\\site-packages\\urllib3\\connectionpool.py:1099: InsecureRequestWarning: Unverified HTTPS request is being made to host 'digiscr.sci.gov.in'. Adding certificate verification is strongly advised. See: https://urllib3.readthedocs.io/en/latest/advanced-usage.html#tls-warnings\n",
      "  warnings.warn(\n",
      "C:\\Users\\spath\\OneDrive\\Desktop\\task\\venv\\Lib\\site-packages\\urllib3\\connectionpool.py:1099: InsecureRequestWarning: Unverified HTTPS request is being made to host 'digiscr.sci.gov.in'. Adding certificate verification is strongly advised. See: https://urllib3.readthedocs.io/en/latest/advanced-usage.html#tls-warnings\n",
      "  warnings.warn(\n"
     ]
    },
    {
     "name": "stdout",
     "output_type": "stream",
     "text": [
      "Downloaded: pdf_documents/pdf_viewer.pdf\n",
      "Downloaded: pdf_documents/pdf_viewer.pdf\n"
     ]
    },
    {
     "name": "stderr",
     "output_type": "stream",
     "text": [
      "C:\\Users\\spath\\OneDrive\\Desktop\\task\\venv\\Lib\\site-packages\\urllib3\\connectionpool.py:1099: InsecureRequestWarning: Unverified HTTPS request is being made to host 'digiscr.sci.gov.in'. Adding certificate verification is strongly advised. See: https://urllib3.readthedocs.io/en/latest/advanced-usage.html#tls-warnings\n",
      "  warnings.warn(\n",
      "C:\\Users\\spath\\OneDrive\\Desktop\\task\\venv\\Lib\\site-packages\\urllib3\\connectionpool.py:1099: InsecureRequestWarning: Unverified HTTPS request is being made to host 'digiscr.sci.gov.in'. Adding certificate verification is strongly advised. See: https://urllib3.readthedocs.io/en/latest/advanced-usage.html#tls-warnings\n",
      "  warnings.warn(\n"
     ]
    },
    {
     "name": "stdout",
     "output_type": "stream",
     "text": [
      "Downloaded: pdf_documents/pdf_viewer.pdf\n"
     ]
    },
    {
     "name": "stderr",
     "output_type": "stream",
     "text": [
      "C:\\Users\\spath\\OneDrive\\Desktop\\task\\venv\\Lib\\site-packages\\urllib3\\connectionpool.py:1099: InsecureRequestWarning: Unverified HTTPS request is being made to host 'digiscr.sci.gov.in'. Adding certificate verification is strongly advised. See: https://urllib3.readthedocs.io/en/latest/advanced-usage.html#tls-warnings\n",
      "  warnings.warn(\n"
     ]
    },
    {
     "name": "stdout",
     "output_type": "stream",
     "text": [
      "Downloaded: pdf_documents/pdf_viewer.pdf\n",
      "Downloaded: pdf_documents/pdf_viewer.pdf\n"
     ]
    },
    {
     "name": "stderr",
     "output_type": "stream",
     "text": [
      "C:\\Users\\spath\\OneDrive\\Desktop\\task\\venv\\Lib\\site-packages\\urllib3\\connectionpool.py:1099: InsecureRequestWarning: Unverified HTTPS request is being made to host 'digiscr.sci.gov.in'. Adding certificate verification is strongly advised. See: https://urllib3.readthedocs.io/en/latest/advanced-usage.html#tls-warnings\n",
      "  warnings.warn(\n",
      "C:\\Users\\spath\\OneDrive\\Desktop\\task\\venv\\Lib\\site-packages\\urllib3\\connectionpool.py:1099: InsecureRequestWarning: Unverified HTTPS request is being made to host 'digiscr.sci.gov.in'. Adding certificate verification is strongly advised. See: https://urllib3.readthedocs.io/en/latest/advanced-usage.html#tls-warnings\n",
      "  warnings.warn(\n"
     ]
    },
    {
     "name": "stdout",
     "output_type": "stream",
     "text": [
      "Downloaded: pdf_documents/pdf_viewer.pdf\n",
      "Downloaded: pdf_documents/pdf_viewer.pdf\n"
     ]
    },
    {
     "name": "stderr",
     "output_type": "stream",
     "text": [
      "C:\\Users\\spath\\OneDrive\\Desktop\\task\\venv\\Lib\\site-packages\\urllib3\\connectionpool.py:1099: InsecureRequestWarning: Unverified HTTPS request is being made to host 'digiscr.sci.gov.in'. Adding certificate verification is strongly advised. See: https://urllib3.readthedocs.io/en/latest/advanced-usage.html#tls-warnings\n",
      "  warnings.warn(\n",
      "C:\\Users\\spath\\OneDrive\\Desktop\\task\\venv\\Lib\\site-packages\\urllib3\\connectionpool.py:1099: InsecureRequestWarning: Unverified HTTPS request is being made to host 'digiscr.sci.gov.in'. Adding certificate verification is strongly advised. See: https://urllib3.readthedocs.io/en/latest/advanced-usage.html#tls-warnings\n",
      "  warnings.warn(\n"
     ]
    },
    {
     "name": "stdout",
     "output_type": "stream",
     "text": [
      "Downloaded: pdf_documents/pdf_viewer.pdf\n",
      "Downloaded: pdf_documents/pdf_viewer.pdf\n"
     ]
    },
    {
     "name": "stderr",
     "output_type": "stream",
     "text": [
      "C:\\Users\\spath\\OneDrive\\Desktop\\task\\venv\\Lib\\site-packages\\urllib3\\connectionpool.py:1099: InsecureRequestWarning: Unverified HTTPS request is being made to host 'digiscr.sci.gov.in'. Adding certificate verification is strongly advised. See: https://urllib3.readthedocs.io/en/latest/advanced-usage.html#tls-warnings\n",
      "  warnings.warn(\n",
      "C:\\Users\\spath\\OneDrive\\Desktop\\task\\venv\\Lib\\site-packages\\urllib3\\connectionpool.py:1099: InsecureRequestWarning: Unverified HTTPS request is being made to host 'www.sebi.gov.in'. Adding certificate verification is strongly advised. See: https://urllib3.readthedocs.io/en/latest/advanced-usage.html#tls-warnings\n",
      "  warnings.warn(\n"
     ]
    },
    {
     "name": "stdout",
     "output_type": "stream",
     "text": [
      "Downloaded: pdf_documents/1292585113260.pdf.pdf\n"
     ]
    },
    {
     "name": "stderr",
     "output_type": "stream",
     "text": [
      "C:\\Users\\spath\\OneDrive\\Desktop\\task\\venv\\Lib\\site-packages\\urllib3\\connectionpool.py:1099: InsecureRequestWarning: Unverified HTTPS request is being made to host 'ijtr.nic.in'. Adding certificate verification is strongly advised. See: https://urllib3.readthedocs.io/en/latest/advanced-usage.html#tls-warnings\n",
      "  warnings.warn(\n"
     ]
    },
    {
     "name": "stdout",
     "output_type": "stream",
     "text": [
      "Downloaded: pdf_documents/Circular%20Orders%20(Supplement).pdf.pdf\n"
     ]
    },
    {
     "name": "stderr",
     "output_type": "stream",
     "text": [
      "C:\\Users\\spath\\OneDrive\\Desktop\\task\\venv\\Lib\\site-packages\\urllib3\\connectionpool.py:1099: InsecureRequestWarning: Unverified HTTPS request is being made to host 'enforcementdirectorate.gov.in'. Adding certificate verification is strongly advised. See: https://urllib3.readthedocs.io/en/latest/advanced-usage.html#tls-warnings\n",
      "  warnings.warn(\n"
     ]
    },
    {
     "name": "stdout",
     "output_type": "stream",
     "text": [
      "Downloaded: pdf_documents/The%20Prevention%20of%20Money-laundering%20%28Maintenance%20of%20Records%29%20Rules%2C%202005.pdf.pdf\n"
     ]
    }
   ],
   "source": [
    "import requests\n",
    "import os\n",
    "\n",
    "def download_pdf(url, save_dir):\n",
    "    try:\n",
    "        response = requests.get(url, verify=False)  # Disable SSL verification\n",
    "        # Extract a safe filename from the URL\n",
    "        file_name = os.path.join(save_dir, url.split(\"/\")[-1].split(\"?\")[0] + \".pdf\")\n",
    "        with open(file_name, 'wb') as file:\n",
    "            file.write(response.content)\n",
    "        print(f\"Downloaded: {file_name}\")\n",
    "        return file_name\n",
    "    except requests.exceptions.SSLError as e:\n",
    "        print(f\"SSL Error occurred while downloading {url}: {e}\")\n",
    "    except Exception as e:\n",
    "        print(f\"Error occurred while downloading {url}: {e}\")\n",
    "\n",
    "# Directory to store downloaded PDFs\n",
    "save_dir = 'pdf_documents/'\n",
    "os.makedirs(save_dir, exist_ok=True)\n",
    "\n",
    "# Download PDFs\n",
    "for link in pdf_links:\n",
    "    download_pdf(link, save_dir)"
   ]
  },
  {
   "cell_type": "code",
   "execution_count": 9,
   "id": "f0802814-b965-4ebc-9640-52dde2a640bb",
   "metadata": {},
   "outputs": [
    {
     "name": "stdout",
     "output_type": "stream",
     "text": [
      "Text extracted from 1292585113260.pdf.pdf: \n",
      "SECURITIES AND EXCHANGE BOARD OF INDIA\n",
      "DIRECTIONS UNDER SECTION 11(4) AND 11B READ WITH REGULATION\n",
      "11 OF SEBI (PROHIBITION OF FRAUDULENT AND UNFAIR TRADE\n",
      "PRACTICES RELATING TO THE SECURITIES MARKET) REGULATIONS,\n",
      "2003, AGAINST BIYANI SECURITIES PVT. LTD. AND SHRI HARISH BIYANI\n",
      "IN THE MATTER OF IRREGULAR TRANSACTIONS IN THE SCRIP OF DSQ\n",
      "INDUSTRIES LTD\n",
      "1.0 BACKGROUND\n",
      "1.1 Biyani Securities Pvt. Ltd. and Shri Harish Biyani are former members of\n",
      "Calcutta Stock Exchange (“CSE”).\n",
      "1.2 DSQ Industries Ltd.\n",
      "Text extracted from 20240716890312078.pdf.pdf: \n",
      "£ÉÉ®iÉ BÉEÉ ºÉÆÉÊ´ÉvÉÉxÉ\n",
      "[1 , 2024 ]\n",
      "THE CONSTITUTION OF INDIA\n",
      "[As on 1st May, 2024]\n",
      "2024\n",
      "GOVERNMENT OF INDIA\n",
      "MINISTRY OF LAW AND JUSTICE\n",
      "LEGISLATIVE DEPARTMENT,OFFICIAL LANGUAGES WING\n",
      "PREFACE\n",
      "This is the sixth pocket size edition of the Constitution of\n",
      "India in the diglot form. In this edition, the text of the\n",
      "Constitution of India has been brought up-to-date by\n",
      "incorporating therein all the amendments up to the Constitution\n",
      "(One Hundred and Sixth Amendment) Act, 2023. The foot notes\n",
      "below the \n",
      "Text extracted from 250883_english_01042024.pdf.pdf: \n",
      "jftLVªh lañ Mhñ ,yñ—(,u)04@0007@2003—23 REGISTERED NO. DL—(N)04/0007/2003—23\n",
      "सी.जी.-डीx.एxलx.G-अI.D-2H5x12x2x023-250883\n",
      "CG-DL-E-25122023-250883\n",
      "xxxGIDExxx\n",
      "vlk/kkj.k\n",
      "EXTRAORDINARY\n",
      "Hkkx II—[k.M 1\n",
      "PARTII—Section1\n",
      "izkf/kdkj ls izdkf'kr\n",
      "PUBLISHED BY AUTHORITY\n",
      "lañ 53] ubZ fnYyh] lkseokj] fnlEcj 25] 2023@ikS\"k 4] 1945 ¼'kd½\n",
      "No. 53] NEWDELHI, MONDAY,DECEMBER25,2023/PAUSHA4, 1945 (SAKA)\n",
      "bl Hkkx esa fHkUu i`\"B la[;k nh tkrh gS ftlls fd ;g vyx ladyu ds :i esa j[kk tk ldsA\n",
      "Separatepaging isgiven tothisParti\n",
      "Text extracted from Circular%20Orders%20(Supplement).pdf.pdf: \n",
      "CIRCULAR ORDERS\n",
      "OF\n",
      "THE HIGH COURT OF JUDICATURE\n",
      "AT\n",
      "ALLAHABAD\n",
      "(SUPPLEMENT)\n",
      "st\n",
      "(FROM 1 APRIL, 2011 TO SEPTEMBER, 2016)\n",
      "INDEX\n",
      "CHAPTER-I\n",
      "JUDICIAL OFFICERS\n",
      "[1] ANNUAL CONFIDENTIAL REPORTS 1\n",
      "(i) Annual Remarks 1\n",
      "(ii) Recording of annual remarks in respect of probationers of 1\n",
      "civil judge (Jr. Div.)\n",
      "(iii) Annual remarks for the year 2013-2014 2\n",
      "(iv) Care and caution to be observed in writing Annual 3\n",
      "Confidential Remarks\n",
      "(v) Annual Remarks for the year 2011- 2012 3\n",
      "[2] CONDUCT IN GENERAL 4\n",
      "(i) Name pla\n",
      "Text extracted from pdf_viewer.pdf: \n",
      "S.C.R. SUPREME COURT REPORTS 137\n",
      "SHRI B. P. HIRA, WORKS MANAGER,\n",
      "CENTRAL RAILWAY, PAREL, BOMBAY E1:C. z959\n",
      "v.\n",
      "Moy 8.\n",
      "SHRI C. M. PRADHAN ETC.\n",
      "(B. P. SINHA, P. B. GAJENDRAGADKAR and\n",
      "K. N. W ANCHOO, JJ.)\n",
      "Overtime Wages-Claim by employees in railway factory\n",
      "Validity-F actories Act, z948 (LXIII of z948), ss. z(l), 59-The\n",
      "Bombay Shops and Establishments Act, z948 (Bom. 79 of z948).\n",
      "SS, 4, 70.\n",
      "These appeals by special leave arose from applications made\n",
      "by the respondents, who were employed as timekeepe\n",
      "Text extracted from PR60974A2ED1DFDB84EC0B3AABFB8419E1431.PDF.pdf: \n",
      "�ेस �काशनी PRESS RELEASE\n",
      "भारतीय �रज़व र् बक�\n",
      "RESERVE BANK OF INDIA\n",
      "वेबसाइट : www.rbi.org.in/hindi सचं ार िवभाग, क��ीय कायार्लय, शहीद भगत �संह माग,र् फोटर्, मबुं ई - 400 001\n",
      "Website : www.rbi.org.in Department of Communication, Central Office, Shahid Bhagat Singh Marg, Fort,\n",
      "ई-मले /email : helpdoc@rbi.org.in Mumbai - 400 001 फोन/Phone: 022 - 2266 0502\n",
      "July 01, 2024\n",
      "RBI appoints Smt. Charulatha S Kar as new Executive Director\n",
      "The Reserve Bank of India (RBI) has appointed Smt. Charulatha S Kar as Ex\n",
      "Text extracted from The%20Prevention%20of%20Money-laundering%20%28Maintenance%20of%20Records%29%20Rules%2C%202005.pdf.pdf: \n",
      "THE PREVENTION OF MONEY-LAUNDERING\n",
      "(MAINTENANCE OF RECORDS)\n",
      "RULES, 20051\n",
      "In exercise of the powers conferred by sub-section (1) read with clause (h), clause\n",
      "(i), clause (j) and clause (k) of sub-section (2) of section 73 of the Prevention of Money-\n",
      "laundering Act, 2002 (15 of 2003) the Central Government in consultation with the\n",
      "Reserve Bank of India, hereby makes the following rules for. maintenance of records of\n",
      "the nature and value of transactions, the procedure and manner of maintaining and \n"
     ]
    }
   ],
   "source": [
    "# Text extraction from the pdf files\n",
    "\n",
    "import pdfplumber\n",
    "\n",
    "def extract_text_from_pdf(pdf_path):\n",
    "    with pdfplumber.open(pdf_path) as pdf:\n",
    "        text = ''\n",
    "        for page in pdf.pages:\n",
    "            text += page.extract_text() + '\\n'\n",
    "        return text\n",
    "\n",
    "# Extract text from all downloaded PDFs\n",
    "for pdf_file in os.listdir(save_dir):\n",
    "    pdf_path = os.path.join(save_dir, pdf_file)\n",
    "    text = extract_text_from_pdf(pdf_path)\n",
    "    print(f\"Text extracted from {pdf_file}: \\n{text[:500]}\")  # Print the first 500 characters\n"
   ]
  },
  {
   "cell_type": "code",
   "execution_count": 12,
   "id": "b070e4b3-f4c1-4534-a935-9af074f9028c",
   "metadata": {
    "scrolled": true
   },
   "outputs": [
    {
     "name": "stdout",
     "output_type": "stream",
     "text": [
      "Summary for 1292585113260.pdf.pdf:\n",
      "SECURITIES AND EXCHANGE BOARD OF INDIA\n",
      "DIRECTIONS UNDER SECTION 11(4) AND 11B READ WITH REGULATION\n",
      "11 OF SEBI (PROHIBITION OF FRAUDULENT AND UNFAIR TRADE\n",
      "PRACTICES RELATING TO THE SECURITIES MARKET) REGULATIONS,\n",
      "2003, AGAINST BIYANI SECURITIES PVT. LTD. AND SHRI HARISH BIYANI\n",
      "IN THE MATTER OF IRREGU...\n",
      "\n",
      "Keywords for 1292585113260.pdf.pdf: [array([['tribunal', 'turn', 'underlining', ..., '12', '00', '01']],\n",
      "      dtype=object)]\n",
      "Summary for 20240716890312078.pdf.pdf:\n",
      "£ÉÉ®iÉ BÉEÉ ºÉÆÉÊ´ÉvÉÉxÉ\n",
      "[1 , 2024 ]\n",
      "THE CONSTITUTION OF INDIA\n",
      "[As on 1st May, 2024]\n",
      "2024\n",
      "GOVERNMENT OF INDIA\n",
      "MINISTRY OF LAW AND JUSTICE\n",
      "LEGISLATIVE DEPARTMENT,OFFICIAL LANGUAGES WING\n",
      "PREFACE\n",
      "This is the sixth pocket size edition of the Constitution of\n",
      "India in the diglot form. In this edition, the...\n",
      "\n",
      "Keywords for 20240716890312078.pdf.pdf: [array([['zachilhu', 'yanam', 'xxxv', ..., 'state', 'act', 'shall']],\n",
      "      dtype=object)]\n",
      "Summary for 250883_english_01042024.pdf.pdf:\n",
      "jftLVªh lañ Mhñ ,yñ—(,u)04@0007@2003—23 REGISTERED NO. DL—(N)04/0007/2003—23\n",
      "सी.जी.-डीx.एxलx.G-अI.D-2H5x12x2x023-250883\n",
      "CG-DL-E-25122023-250883\n",
      "xxxGIDExxx\n",
      "vlk/kkj.k\n",
      "EXTRAORDINARY\n",
      "Hkkx II—[k.M 1\n",
      "PARTII—Section1\n",
      "izkf/kdkj ls izdkf'kr\n",
      "PUBLISHED BY AUTHORITY\n",
      "lañ 53] ubZ fnYyh] lkseokj] fnlEcj 25] 2023@i...\n",
      "\n",
      "Keywords for 250883_english_01042024.pdf.pdf: [array([['zisthuspreventedfrom', 'zisthrownfromhishorse',\n",
      "        'zisstandinginhisdoorway', ..., 'orwithboth', 'shall', 'person']],\n",
      "      dtype=object)]\n",
      "Summary for Circular%20Orders%20(Supplement).pdf.pdf:\n",
      "CIRCULAR ORDERS\n",
      "OF\n",
      "THE HIGH COURT OF JUDICATURE\n",
      "AT\n",
      "ALLAHABAD\n",
      "(SUPPLEMENT)\n",
      "st\n",
      "(FROM 1 APRIL, 2011 TO SEPTEMBER, 2016)\n",
      "INDEX\n",
      "CHAPTER-I\n",
      "JUDICIAL OFFICERS\n",
      "[1] ANNUAL CONFIDENTIAL REPORTS 1\n",
      "(i) Annual Remarks 1\n",
      "(ii) Recording of annual remarks in respect of probationers of 1\n",
      "civil judge (Jr. Div.)\n",
      "(iii) ...\n",
      "\n",
      "Keywords for Circular%20Orders%20(Supplement).pdf.pdf: [array([['yearly', 'yeslter', '1184', ..., 'ble', 'hon', 'court']],\n",
      "      dtype=object)]\n",
      "Summary for pdf_viewer.pdf:\n",
      "S.C.R. SUPREME COURT REPORTS 137\n",
      "SHRI B. P. HIRA, WORKS MANAGER,\n",
      "CENTRAL RAILWAY, PAREL, BOMBAY E1:C. z959\n",
      "v.\n",
      "Moy 8.\n",
      "SHRI C. M. PRADHAN ETC.\n",
      "(B. P. SINHA, P. B. GAJENDRAGADKAR and\n",
      "K. N. W ANCHOO, JJ.)\n",
      "Overtime Wages-Claim by employees in railway factory\n",
      "Validity-F actories Act, z948 (LXIII of z948),...\n",
      "\n",
      "Keywords for pdf_viewer.pdf: [array([['z9', 'xxxv', '140', '139', '138', 'wider', 'wholly', 'welfare',\n",
      "        'washing', 'vide', 'vi', '27', '1raga4har', '1m', '1actories',\n",
      "        '1956', '11511', '11510', '1050', '1049', '1016', '1015', '1013',\n",
      "        'various', 'used', '147', '146', '145', '144', '143', '142',\n",
      "        'z95o', 'accounts', 'accordingly', 'aca', '994', '992', '989',\n",
      "        '970', '967', '963', '961', '950', '71', '59of1956', '55', '52',\n",
      "        'proper', 'topic', 'took', 'tioncd', 'amended', 'amend',\n",
      "        'altering', 'alter', 'allthority', 'alike', 'aiiy', 'agency',\n",
      "        'affirmed', 'additional', 'add', 'adapting', 'achieved', 'ands',\n",
      "        'anchoo', 'amusements', 'amusement', 'amuse', 'amounts',\n",
      "        'amendment', 'use', 'upheld', 'unnecessary', 'underlying',\n",
      "        'turing', 'ts', 'tricumdas', 'treating', 'transport', 'posed',\n",
      "        'pos', 'quarter', 'puted', 'purview', 'pursued', 'purposes',\n",
      "        'purpose', 'purport', 'pur', 'published', 'appellate',\n",
      "        'appellants', 'appel', 'apparently', 'anticipates', 'assumed',\n",
      "        'assigned', 'asks', 'article', 'arose', 'arises', 'argues',\n",
      "        'argu', 'april', 'apprentice', 'applioable', 'applica', 'applic',\n",
      "        'pply', 'postulates', 'poses', 'came', 'calls', 'broad',\n",
      "        'briefly', 'breaking', 'borne', 'born', 'beneficent', 'base',\n",
      "        'available', 'authorises', 'authori', 'august', 'attendance',\n",
      "        'attached', 'ation', 'claims', 'claimed', 'cl', 'cite', 'cial',\n",
      "        'chs', 'character', 'cause', 'thought', 'thereto', 'thereof',\n",
      "        'theatre', 'thatthe', 'tha1', 'territory', 'terms', 'provsions',\n",
      "        'pondents', 'ployees', 'piece', 'pect', 'pathy', 'parties',\n",
      "        'particular', 'pare', 'paid', 'packing', 'column', 'colleagues',\n",
      "        'class', 'clarifying', 'clarify', 'confer', 'concerned',\n",
      "        'conceivable', 'conceded', 'competent', 'companion', 'te',\n",
      "        'suprem', 'supplement', 'sunday', 'suggested', 'suggeste',\n",
      "        'substance', 'subsequently', 'commer', 'comi', 'declare', 'date',\n",
      "        'course', 'cour', 'costs', 'correspondence', 'correspond', 'cor',\n",
      "        'context', 'contalns', 'construe', 'consolidate', 'consistently',\n",
      "        'conse', 'confiomed', 'confers', 'stage', 'srivastava', 'spare',\n",
      "        'orslered', 'ornamenting', 'ordered', 'opinion', 'open', 'omit',\n",
      "        'oiling', 'oh', 'official', 'october', 'obviously', 'obvious',\n",
      "        'ded', 'detain', 'dents', 'denotation', 'demolishing', 'demic',\n",
      "        'delivery', 'defiuition', 'definitions', 'defining', 'defini',\n",
      "        'define', 'defind', 'struction', 'stent', 'statutes', 'stands',\n",
      "        'regulating', 'regulate', 'regulat', 'reference', 'rect', 'ral',\n",
      "        'railways', 'querue', 'observed', 'ny', 'disposal', 'dis',\n",
      "        'directly', 'directing', 'did', 'dhebar', 'doult', 'double',\n",
      "        'soon', 'social', 'sions', 'sinha', 'significant', 'sidered',\n",
      "        'sibly', 'showed', 'shed', 'dk', 'distinct', 'dispute',\n",
      "        'dispose', 'obtained', 'enumerat', 'ents', 'entries',\n",
      "        'entertainments', 'entertainment', 'enacting', 'empoyees',\n",
      "        'employment', 'employer', 'emphatically', 'em', 'ed', 'ection',\n",
      "        'e1', 'duly', 'dragadkar', 'exemption', 'excluding', 'nows',\n",
      "        'needs', 'necessarily', 'nature', 'moy', 'mines', 'mind',\n",
      "        'merits', 'merely', 'ments', 'exception', 'examined',\n",
      "        'establishmept', 'ertime', 'september', 'sense', 'secon', 'fdr',\n",
      "        'family', 'faintly', 'fact', 'facie', 'extension', 'extends',\n",
      "        'extending', 'extended', 'extend', 'expressions', 'exhaustive',\n",
      "        'exemptions', 'fore', 'follows', 'finishing', 'finally',\n",
      "        'filing', 'fiction', 'fhis', 'features', 'settle', 'setalvad',\n",
      "        'set', 'serves', 'serve', 'servants', 'servant', 'seriously',\n",
      "        'mended', 'men', 'member', 'matters', 'mate', 'manufac',\n",
      "        'manner', 'machinery', 'res', 'requirements', 'gajcndragadkar',\n",
      "        'ga1endragadliar', 'ga1endragadkar', 'ga1enaragadkar', 'fr',\n",
      "        'founded', 'sai', 'running', 'hiy', 'hir11', 'hfra', 'hand',\n",
      "        'half', 'grants', 'granted', 'governor', 'gojm4ro1', 'gives',\n",
      "        'gana', 'gajn4ra11sdkm', 'gajentlragatlkar', 'mentions',\n",
      "        'independently', 'inclusion', 'inapplicable', 'inapplic',\n",
      "        'immediately', 'iii', 'ifs', 'hut', 'scop_e', 'says', 'say',\n",
      "        'satistical', 'satisfy', 'satisfies', 'sanction', 'sale',\n",
      "        'repugnance', 'repondents', 'repairing', 'remove', 'remaining',\n",
      "        'reliance', 'relation', 'relating', 'rej', 'machine', 'macb',\n",
      "        'ma', 'lt', 'll', 'inference', 'indicated', 'involves',\n",
      "        'invoked', 'inthe', 'intends', 'intend', 'integ', 'rt', 'right',\n",
      "        'respond', 'respon', 'respectivly', 'respective', 'institutions',\n",
      "        'insepar', 'initial', 'information', 'lant', 'labour', 'knew',\n",
      "        'kitchen', 'kind', 'justfy', 'jurisdiction', 'judgments',\n",
      "        'jrovisions', 'jointly', 'jobs', 'jj', 'jan', 'iyer', 'ira',\n",
      "        'ion', 'withstanding', 'wish', '1890', '186', '18', '174', '149',\n",
      "        '148', 'liat', 'let', 'legiti', 'led', 'leafrned', 'lays',\n",
      "        'laying', 'law', 'production', 'prod', 'prlld', 'principally',\n",
      "        'prima', 'prescribe', 'preparing', 'prepare', 'preliminary',\n",
      "        'pradhlln', 'pradharl', 'pradhah', '304', '137', '11517',\n",
      "        '11513', '01r', '141', 'works', 'whereon', 'virtue', '1959',\n",
      "        '1955', '1952', 'legislation', 'january', 'ix', 'rise',\n",
      "        'restaurants', 'rest', 'respectively', 'institution', 'rel',\n",
      "        'rejected', 'indian', 'india', 'includes', 'incidentally',\n",
      "        'houses', 'hotels', 'holding', 'se', 'scheme', 'hir', 'heard',\n",
      "        'grounds', 'govern', 'ges', 'gazette', 'means', 'matter',\n",
      "        'materially', 'manager', 'main', 'gaj', 'file', 'separately',\n",
      "        'separate', 'sections', 'fall', 'expression', 'exempted',\n",
      "        'noticed', 'non', 'neverthless', 'need', 'months', 'mercial',\n",
      "        'excludes', 'excluded', 'exclude', 'evidence', 'establish',\n",
      "        'error', 'entry', 'empowers', 'employee', 'effect', 'shri',\n",
      "        'showing', 'disposed', 'refer', 'records', 'reason', 'obstante',\n",
      "        'object', 'dismissed', 'directed', 'different', 'delivered',\n",
      "        'statute', 'status', 'statement', 'ordinarily', 'operate',\n",
      "        'opera', 'offices', 'deal', 'days', 'day', 'dated', 'ct',\n",
      "        'correct', 'consists', 'considered', 'consider', 'connection',\n",
      "        'conditions', 'taken', 'support', 'suggestion', 'com', 'policy',\n",
      "        'plain', 'placed', 'place', 'parts', 'cleaning', 'clarified',\n",
      "        'claiming', 'challenged', 'cess', 'theatres', 'thats', 'tha',\n",
      "        'ca', 'bom', 'behalf', 'based', 'assumption', 'aspect', 'power',\n",
      "        'possible', 'appears', 'apart', 'twice', 'true', 'alternative',\n",
      "        'alleged', 'aid', 'affect', 'adjunct', 'able', '85', '31',\n",
      "        'provided', 'provi', 'precincts', '30', '131', '11', 'words',\n",
      "        'ys', 'way', 'public', 'purshottam', 'preceding', 'premises',\n",
      "        'pro', 'proviso', 'notification', 'necessary', 'making',\n",
      "        'orders', 'operation', 'parel', 'places', 'rail', 'mean',\n",
      "        'restaurant', 'including', 'house', 'holiday', 'schedule',\n",
      "        'i959', 'judgment', 'result', 'inter', 'iv', 'lxiii', 'like',\n",
      "        'required', 'maintain', 'sa', 'having', 'extra', 'given',\n",
      "        'finding', 'final', 'filed', 'group', 'enumerated', 'duties',\n",
      "        'second', 'worked', '79', 'times', 'applied', 'benefit',\n",
      "        'subsequent', 'commercial', 'clause', 'civil', 'ch', 'condoned',\n",
      "        'common', 'contained', 'correctness', 'contention',\n",
      "        'construction', 'ss', 'defines', 'staff', 'disputed', 'sheets',\n",
      "        '1949', 'administration', 'alia', 'alternatively', 'treated',\n",
      "        '63', 'accepted', '1957', '1954', '1953', 'expressly', 'id',\n",
      "        'respect', 'hotel', 'incidental', 'ing', 'make', 'learned',\n",
      "        'order', 'conclusion', 'decision', 'argument', 'sundays',\n",
      "        'deals', 'tion', 'carried', 'cases', 'clear', 'actories',\n",
      "        'appeal', 'dealing', 'da', 'think', 'governed', 'prior',\n",
      "        'passed', 'makes', 'mr', 'notwithstanding', 'pa', '19',\n",
      "        'position', 'point', 'z948', 'wide', '1936', 'doubt', 'wa',\n",
      "        'shows', 'applications', 'sr', 'legislature', 'eating',\n",
      "        'gajendragadkar', 'ground', 'government', 'keepers', 'leave',\n",
      "        'person', 'period', 'office', 'pay', 'ment', 'mentioned',\n",
      "        'urged', 'validity', 'defined', 'connected', 'shop', 'delay',\n",
      "        'central', 'deemed', 'special', 'sub', 'present', 'worker',\n",
      "        'regard', 'intended', 'nos', 'ordinary', 'working', 'view',\n",
      "        'called', 'attorney', 'case', '1960', 'relevant', 'residential',\n",
      "        'specified', 'applies', 'does', 'hira', 'include', 'z959',\n",
      "        'state', 'subject', 'workshop', 'provides', 'col', 'shops',\n",
      "        'shall', 'applicable', 'definition', 'held', 'question', 'sch',\n",
      "        'general', 'persons', 'pradhan', 'ii', 'application', 'appeals',\n",
      "        'railway', 'time', 'progress', 'rate', 'meaning', 'process',\n",
      "        'manufacturing', 'respondent', 'reports', '1948', '59', 'apply',\n",
      "        'supreme', 'employed', 'appellant', 'court', 'work', 'payment',\n",
      "        'entitled', 'timekeepers', 'provision', 'bombay', 'claim',\n",
      "        'employees', 'respondents', 'section', 'workers',\n",
      "        'establishment', 'provisions', 'establishments', '70',\n",
      "        'authority', 'factory', 'overtime', 'said', 'wages', 'factories',\n",
      "        'act']], dtype=object)]\n",
      "Summary for PR60974A2ED1DFDB84EC0B3AABFB8419E1431.PDF.pdf:\n",
      "�ेस �काशनी PRESS RELEASE\n",
      "भारतीय �रज़व र् बक�\n",
      "RESERVE BANK OF INDIA\n",
      "वेबसाइट : www.rbi.org.in/hindi सचं ार िवभाग, क��ीय कायार्लय, शहीद भगत �संह माग,र् फोटर्, मबुं ई - 400 001\n",
      "Website : www.rbi.org.in Department of Communication, Central Office, Shahid Bhagat Singh Marg, Fort,\n",
      "ई-मले /email : helpdoc@rbi...\n",
      "\n",
      "Keywords for PR60974A2ED1DFDB84EC0B3AABFB8419E1431.PDF.pdf: [array([['0502', '022', '2266', '2025', 'appointed', 'appellate',\n",
      "        'accounts', '609', 'appoints', 'areas', 'associate', 'authority',\n",
      "        'central', 'bis', 'bhagat', 'banking', 'diploma', 'decades',\n",
      "        'committees', 'commerce', 'charge', 'certified', 'helpdoc',\n",
      "        'hindi', 'government', 'graduate', 'fort', 'forex', 'experience',\n",
      "        'external', 'email', 'effect', 'new', 'office', 'marg', 'having',\n",
      "        'pancholy', 'member', 'look', 'iibf', 'groups', 'website',\n",
      "        'treasury', 'भगत', 'टर', 'इट', 'working', 'बस', 'shahid',\n",
      "        'singh', 'systems', 'technology', 'university', 'served',\n",
      "        'right', 'settlement', 'represented', 'serving', 'promoted',\n",
      "        'puneet', 'prior', 'post', 'phone', 'payment', 'सच', 'शह', 'वभ',\n",
      "        'लय', 'रज़व', 'रत', 'मल', 'worked', 'बक', 'शन', 'मब', 'press',\n",
      "        'release', '01', '400', 'www', 'chief', '001', 'communication',\n",
      "        'charulatha', 'general', 'july', 'internal', 'mumbai',\n",
      "        'information', 'ed', 'manager', 'india', '2024', 'director',\n",
      "        'org', 'human', 'executive', 'resource', 'bank', 'department',\n",
      "        'reserve', 'management', 'rbi', 'kar', 'smt']], dtype=object)]\n",
      "Summary for The%20Prevention%20of%20Money-laundering%20%28Maintenance%20of%20Records%29%20Rules%2C%202005.pdf.pdf:\n",
      "THE PREVENTION OF MONEY-LAUNDERING\n",
      "(MAINTENANCE OF RECORDS)\n",
      "RULES, 20051\n",
      "In exercise of the powers conferred by sub-section (1) read with clause (h), clause\n",
      "(i), clause (j) and clause (k) of sub-section (2) of section 73 of the Prevention of Money-\n",
      "laundering Act, 2002 (15 of 2003) the Central Gover...\n",
      "\n",
      "Keywords for The%20Prevention%20of%20Money-laundering%20%28Maintenance%20of%20Records%29%20Rules%2C%202005.pdf.pdf: [array([['nahlral', 'manually', 'marriage', ..., 'dated', 'rule', 'shall']],\n",
      "      dtype=object)]\n"
     ]
    }
   ],
   "source": [
    "# Example of the summarization technique using sklearn \n",
    "\n",
    "from sklearn.feature_extraction.text import TfidfVectorizer\n",
    "\n",
    "def extract_keywords(text, num_keywords=5):\n",
    "    vectorizer = TfidfVectorizer(stop_words='english')\n",
    "    vectors = vectorizer.fit_transform([text])\n",
    "    feature_names = vectorizer.get_feature_names_out()\n",
    "    dense = vectors.todense()\n",
    "    keyword_indices = dense[0].argsort()[-num_keywords:][::-1]\n",
    "    keywords = [feature_names[idx] for idx in keyword_indices]\n",
    "    return keywords\n",
    "\n",
    "# Example of summarizing and extracting keywords for each PDF\n",
    "for pdf_file in os.listdir(save_dir):\n",
    "    pdf_path = os.path.join(save_dir, pdf_file)\n",
    "    text = extract_text_from_pdf(pdf_path)\n",
    "    summary = text[:1000]  # This is just an example, you can implement a better summarizer\n",
    "    keywords = extract_keywords(text)\n",
    "    print(f\"Summary for {pdf_file}:\\n{summary[:300]}...\\n\")\n",
    "    print(f\"Keywords for {pdf_file}: {keywords}\")\n"
   ]
  },
  {
   "cell_type": "code",
   "execution_count": 35,
   "id": "72875042-19f1-4cc3-847f-2cca92265f79",
   "metadata": {},
   "outputs": [
    {
     "name": "stdout",
     "output_type": "stream",
     "text": [
      "Saved 1292585113260.pdf.pdf to MongoDB.\n",
      "Saved 20240716890312078.pdf.pdf to MongoDB.\n",
      "Saved 250883_english_01042024.pdf.pdf to MongoDB.\n",
      "Saved Circular%20Orders%20(Supplement).pdf.pdf to MongoDB.\n",
      "Saved pdf_viewer.pdf to MongoDB.\n",
      "Saved PR60974A2ED1DFDB84EC0B3AABFB8419E1431.PDF.pdf to MongoDB.\n",
      "Saved The%20Prevention%20of%20Money-laundering%20%28Maintenance%20of%20Records%29%20Rules%2C%202005.pdf.pdf to MongoDB.\n"
     ]
    }
   ],
   "source": [
    "import os\n",
    "import requests\n",
    "from pymongo import MongoClient\n",
    "import spacy\n",
    "import numpy as np\n",
    "import PyPDF2\n",
    "from collections import Counter\n",
    "\n",
    "# Initialize spaCy\n",
    "nlp = spacy.load(\"en_core_web_sm\")\n",
    "\n",
    "# Set up MongoDB connection\n",
    "client = MongoClient('mongodb://localhost:27017/')\n",
    "db = client['pdf_database']\n",
    "collection = db['pdf_summaries']\n",
    "\n",
    "def extract_text_from_pdf(pdf_path):\n",
    "    # Check if the path is a URL or local file\n",
    "    if pdf_path.startswith('http'):\n",
    "        # Download PDF\n",
    "        response = requests.get(pdf_path)\n",
    "        with open('temp.pdf', 'wb') as f:\n",
    "            f.write(response.content)\n",
    "        pdf_path = 'temp.pdf'  # Update to the temporary file\n",
    "    \n",
    "    # Extract text from the PDF\n",
    "    with open(pdf_path, 'rb') as f:\n",
    "        reader = PyPDF2.PdfReader(f)\n",
    "        text = ''\n",
    "        for page in reader.pages:\n",
    "            text += page.extract_text() or ''\n",
    "    return text\n",
    "\n",
    "def summarize_text(text):\n",
    "    # Tokenize and filter sentences\n",
    "    doc = nlp(text)\n",
    "    sentences = [sent.text for sent in doc.sents]\n",
    "    \n",
    "    # Simple summarization by selecting the first few sentences\n",
    "    summary = ' '.join(sentences[:3])  # Change the number of sentences as needed\n",
    "    return summary\n",
    "\n",
    "def extract_keywords(text, limit=20):\n",
    "    nlp = spacy.load(\"en_core_web_sm\")\n",
    "    doc = nlp(text)\n",
    "\n",
    "    # Extract keywords (nouns and proper nouns)\n",
    "    keywords = [token.lemma_ for token in doc if token.pos_ in [\"NOUN\", \"PROPN\"] and not token.is_stop]\n",
    "\n",
    "    # Get the most common keywords, limited to the specified number\n",
    "    most_common_keywords = [word for word, freq in Counter(keywords).most_common(limit)]\n",
    "    \n",
    "    return most_common_keywords\n",
    "\n",
    "def save_to_mongodb(filename, summary, keywords, file_size, file_path):\n",
    "    document = {\n",
    "        'filename': filename,\n",
    "        'summary': summary,\n",
    "        'keywords': keywords,\n",
    "        'file_size': file_size,\n",
    "        'file_path': file_path\n",
    "    }\n",
    "    collection.insert_one(document)\n",
    "    print(f\"Saved {filename} to MongoDB.\")\n",
    "\n",
    "# Directory to save PDFs and process them\n",
    "save_dir = r'C:\\Users\\spath\\OneDrive\\Desktop\\task\\pdf_documents'  # Change this to your actual directory\n",
    "\n",
    "# Save summaries and keywords to MongoDB\n",
    "for pdf_file in os.listdir(save_dir):\n",
    "    pdf_path = os.path.join(save_dir, pdf_file)\n",
    "    if pdf_file.endswith('.pdf'):\n",
    "        text = extract_text_from_pdf(pdf_path)\n",
    "        summary = summarize_text(text)\n",
    "        keywords = extract_keywords(text)\n",
    "        \n",
    "        # Get file size in bytes\n",
    "        file_size = os.path.getsize(pdf_path)\n",
    "        \n",
    "        # Save to MongoDB including metadata\n",
    "        save_to_mongodb(pdf_file, summary, keywords, file_size, pdf_path)\n",
    "\n",
    "# Clean up the temporary file\n",
    "if os.path.exists('temp.pdf'):\n",
    "    os.remove('temp.pdf')"
   ]
  },
  {
   "cell_type": "code",
   "execution_count": null,
   "id": "cec29b68-1fa0-4ca0-ac3e-ece785705f5f",
   "metadata": {},
   "outputs": [],
   "source": []
  }
 ],
 "metadata": {
  "kernelspec": {
   "display_name": "Python (venv)",
   "language": "python",
   "name": "venv"
  },
  "language_info": {
   "codemirror_mode": {
    "name": "ipython",
    "version": 3
   },
   "file_extension": ".py",
   "mimetype": "text/x-python",
   "name": "python",
   "nbconvert_exporter": "python",
   "pygments_lexer": "ipython3",
   "version": "3.12.3"
  }
 },
 "nbformat": 4,
 "nbformat_minor": 5
}
